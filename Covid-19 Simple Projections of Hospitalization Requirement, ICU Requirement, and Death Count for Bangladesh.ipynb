{
 "cells": [
  {
   "cell_type": "markdown",
   "metadata": {},
   "source": [
    "# Covid-19 Projections for Bangladesh"
   ]
  },
  {
   "cell_type": "markdown",
   "metadata": {},
   "source": [
    "## March 26, 2020\n",
    "\n",
    "## Projection of ICU Bed Requirements, Hospitalization Demands, Death Rates "
   ]
  },
  {
   "cell_type": "markdown",
   "metadata": {},
   "source": [
    "## 0. Contents"
   ]
  },
  {
   "cell_type": "markdown",
   "metadata": {},
   "source": [
    "<ol>\n",
    "    <li> Introduction </li>\n",
    "    <li> A simple (almost back of the envelop) estimation method </li>\n",
    "    <li> Running simulations for Bangladesh \n",
    "        <ol>\n",
    "        <li> Estimating Number of True-Infected on March 26, 2020 </li>\n",
    "            <ol>\n",
    "                <li> optimistic projection </li>\n",
    "                <li> balanced projection </li>\n",
    "                <li> pessimistic projection </li>\n",
    "            </ol>\n",
    "        <li> Forecasting ICU Bed Requirements, Hospitalization Demands, Death Rates </li> \n",
    "            <ol>\n",
    "                <li> optimistic projection </li>\n",
    "                <li> balanced projection </li>\n",
    "                <li> pessimistic projection </li>\n",
    "            </ol>\n",
    "        </ol>\n",
    "    <li> Scenario Summary </li>\n",
    "    <li> Useful Resources </li>\n",
    "</ol>"
   ]
  },
  {
   "cell_type": "markdown",
   "metadata": {},
   "source": [
    "### 1. Introduction"
   ]
  },
  {
   "cell_type": "markdown",
   "metadata": {},
   "source": [
    "**Here I am trying to forecast ICU bed requirements, hospitalization requirements, and death rates for Covid-19 outbreak in Bangladesh in 2020.** I hope this will help decision-makers in public healthcare sector, as well as private volunteer groups who have come forward in tackling the crisis in making decisions.   \n",
    "\n",
    "**This is a very simple, almost back-of-the-envelop simulation. So it may not be the most accurate or sophisticated approach.** \n",
    "\n",
    "**disclaimer: I am not an epidemiologist.**  \n",
    "\n",
    "**I am simulating based on 3 sets of assumptions** \n",
    "<ol>\n",
    "    <li> Pessimistic assumptions </li>\n",
    "    <li> Balanced assumptions </li>\n",
    "    <li> Optimistic assumptions </li>\n",
    "</ol>\n",
    "    \n",
    "The simulated numbers will therefore, have large range. \n",
    "\n",
    "**My simulation takes into account the policy decision to declare 9-day holidays starting March 26, 2020.** \n",
    "\n",
    "**Also, I am terminating the simulation as soon as a death-count of 5,000 is reached**. This is because, I believe if and when that level is reached, two things will happen:\n",
    "\n",
    "<ol>\n",
    "    <li> More restrictive policy decisions will be taken (i.e. total lockdown).</li>\n",
    "    <li> People themselves will change their behavior when they see people around them dying. </li> \n",
    "</ol>\n",
    "\n",
    "I believe as a result, the model parameters used for simulation will change drastically, making any forecast beyond that point unreliable. \n"
   ]
  },
  {
   "cell_type": "markdown",
   "metadata": {},
   "source": [
    "### 2. A simple (almost back of the envelop) estimation method"
   ]
  },
  {
   "cell_type": "markdown",
   "metadata": {},
   "source": [
    "**Even with extensive testing many covid-19 infected remain undetected.** This is because many patients will develop mild symptoms only, or no symptoms at all, while still infecting others unknowingly.\n",
    "\n",
    "**Sal Khan of Khan Academy shows a simple formula to estimate actual total number of covid-19 infected today from total number of covid-19 deaths today.** \n",
    "\n",
    "It is important to note that this is a very simple model with simple assumptions.The method he is using is detailed in the following video."
   ]
  },
  {
   "cell_type": "code",
   "execution_count": 4,
   "metadata": {},
   "outputs": [
    {
     "data": {
      "image/jpeg": "[encoded data removed]",
      "text/html": [
       "\n",
       "        <iframe\n",
       "            width=\"400\"\n",
       "            height=\"300\"\n",
       "            src=\"https://www.youtube.com/embed/mCa0JXEwDEk\"\n",
       "            frameborder=\"0\"\n",
       "            allowfullscreen\n",
       "        ></iframe>\n",
       "        "
      ],
      "text/plain": [
       "<IPython.lib.display.YouTubeVideo at 0x7fd1d00f9f60>"
      ]
     },
     "execution_count": 4,
     "metadata": {},
     "output_type": "execute_result"
    }
   ],
   "source": [
    "from IPython.display import YouTubeVideo\n",
    "YouTubeVideo('mCa0JXEwDEk')"
   ]
  },
  {
   "cell_type": "markdown",
   "metadata": {},
   "source": [
    "Here is how this estimation works.\n",
    "\n",
    "**The key assumptions detailed in the video, which are based on early empirical findings from Wuhan, China are as follows**:\n",
    "\n",
    "<ol>\n",
    "    <li> For those who die, it takes on average $20$ days from infection to death. </li>\n",
    "    <li> For those who get infected today, $1$% dies after $20$ days. (the low rate is due to factoring-in that many do not develop symptoms and stay undetected). </li>\n",
    "</ol>\n",
    "\n",
    "Hence for $1$ dead patient today, approximately $100$ got infected $20$ days ago. \n",
    "\n",
    "It takes approximately $5$ days (global avg.) for the number of infected to double based on empirical observation of other countries. \n",
    "\n",
    "In $20$ days, the number of total infected doubles $20/5 = 4$ times,  by a total of $2^4 = 16$ times. \n",
    "\n",
    "Hence, 1 dead covid-19 patient today means approximately $100*16 = 1600$ total infected till day. \n",
    "\n",
    "This has been the case in Wuhan, China\n"
   ]
  },
  {
   "cell_type": "markdown",
   "metadata": {},
   "source": [
    "### 3. Running a simulation for Bangladesh"
   ]
  },
  {
   "cell_type": "markdown",
   "metadata": {},
   "source": [
    "#### 3.1 Estimating Total True-Infected Population on March 26, 2020 (Before 9-day National Holiday Declaration)"
   ]
  },
  {
   "cell_type": "markdown",
   "metadata": {},
   "source": [
    "The 3 numbers needed in this approach to estimate total true-infected population are:\n",
    "\n",
    "<ol>\n",
    "    <li> days-to-double </li>\n",
    "    <li> 20-day forward death-rate </li>\n",
    "    <li> true death-count </li>\n",
    "</ol>\n",
    "\n",
    "The **'days-to-duble'** parameter for Bangladesh could be as low as $2$ considering the population density (pessimestic approach), before the lockdown-like policy decisions came into effect on March 26, 2020. In several countries and dense cities, there are instances of this parameter being as low as $2$, so it is not a wild assumption to consider. In the subcontinent, there are claims that this number has been $4$ (optimistic approach). I will also simulate based on this number being $3$ (balanced approach).\n",
    "\n",
    "For the **'20-day-forward death-rate'**, I am taking the estimated rate from Wuhan, China which is around $1$% (pessimistic approach). I will also be considering $2$% (balanced approach) and $4$% (optimistic approach) 20-day-forward death-rate. Please note, in this context, a higher death-rate means more optimistic assumption, as the higher the 20-day-forward death rate, the lower the size of estimated true-infected population on March 26, 2020.\n",
    "\n",
    "For the **true death-count**, I am taking the official number of $5$ (optimistic approach), but also simulating based on true death-count of $10$ (balanced assumption) and 15 (pessimistic assumption). This is not unwarranted to assume that half or two-third of deaths due to Covid-19 may have remained unreported as healthcare coverage is low in the country.   "
   ]
  },
  {
   "cell_type": "code",
   "execution_count": 124,
   "metadata": {},
   "outputs": [
    {
     "name": "stdout",
     "output_type": "stream",
     "text": [
      "optimistic projection:\n",
      "number of true-infected on March 06, 2020 is 125.0\n",
      "number of true-infected on March 26, 2020 is 4000.0\n",
      "_______________________________________________________________________________\n",
      "balanced projection:\n",
      "number of true-infected on March 06, 2020 is 500.0\n",
      "number of true infected on March 26, 2020 is 50797.0\n",
      "_______________________________________________________________________________\n",
      "pessimistic projection:\n",
      "number of true-infected on March 06, 2020 is 1500.0\n",
      "number of true-infected on March 26, 2020 is 1536000.0\n"
     ]
    }
   ],
   "source": [
    "import numpy as np\n",
    "days2double = np.array([4, 3, 2])           # optimistic, balanced, pessimistic; \n",
    "                                            # Days it takes for number of Covid-19 infected to double.\n",
    "deathrate   = np.array([0.04,0.02,0.01])    # optimistic, balanced, pessimistic;\n",
    "                                            # 20-day-forward death rate.\n",
    "deathcount  = np.array([5,10,15])           # optimistic, balanced, pessimistic;\n",
    "                                            # Number of deaths from Covid-19\n",
    "symptom2death = 20                          # Avg. duration in days for those who dies from getting infected to dying \n",
    "\n",
    "true_infected = deathcount*(1/deathrate)*2**(symptom2death/days2double)\n",
    "\n",
    "print('optimistic projection:')\n",
    "print('number of true-infected on March 06, 2020 is', round((deathcount*(1/deathrate))[0]))\n",
    "print('number of true-infected on March 26, 2020 is', round(true_infected[0]))\n",
    "print('_______________________________________________________________________________')\n",
    "print('balanced projection:')\n",
    "print('number of true-infected on March 06, 2020 is', round((deathcount*(1/deathrate))[1]))\n",
    "print('number of true infected on March 26, 2020 is', round(true_infected[1]))\n",
    "print('_______________________________________________________________________________')\n",
    "print('pessimistic projection:')\n",
    "print('number of true-infected on March 06, 2020 is', round((deathcount*(1/deathrate))[2]))\n",
    "print('number of true-infected on March 26, 2020 is', round(true_infected[2]))"
   ]
  },
  {
   "cell_type": "markdown",
   "metadata": {},
   "source": [
    "It can be noted that the range of the projection of true-infected on March 26, 2020 $(4,000 - 153,600)$ is rather huge. This reflects the underlying uncertainty with the parameter values. As this process follows compounding growth, a seemingly small difference in parameters can result in huge difference in estimated number of true-infected. "
   ]
  },
  {
   "cell_type": "markdown",
   "metadata": {},
   "source": [
    "#### 3.2 Forecasting ICU Bed Requirements, Hospitaization Demand, Death Rates (After 9-day National Holiday Declaration)"
   ]
  },
  {
   "cell_type": "markdown",
   "metadata": {},
   "source": [
    "The numbers needed for this simulation are:\n",
    "\n",
    "<ol>\n",
    "    <li> days-to-double </li>\n",
    "    <li> number of true-infected on March 26, 2020 </li>\n",
    "    <li> hospitalization requirement rate </li>\n",
    "    <li> ICU requirement rate </li>\n",
    "    <li> time till hospitalization </li>\n",
    "    <li> case-fatality-rate </li>\n",
    "</ol>\n",
    "\n",
    "For **'days-to-double'**, I am running the simulation taking into consideration that, lockdown-like measures have been put in place effective March 26, 2020; hence it can be reasonably expected that the 'days-to-double' paramter would go up (the speed of spread will go down). I am assuming it will go up to become $5$ (balanced approach). \n",
    "\n",
    "For **number of true-infected on March 26, 2020**, the estimated numbers are $4,000$, $50,797$, and $1,536,000$ respectively.\n",
    "\n",
    "For **hospitalization requirement rate**, global average is around $20$% of detected patients, which is $10$% of true-infected, as we are considering as much as half may remain asymptomatic) (balanced approach). Considering a significant male population is smoker and those living in Dhaka breath one of the unhealthiest of air, I am also considering that this number can be as high as $12.5$% (pessimistic approach). On the other hand, considering the age-distribution of Bangladesh is skewed to the younger side with a median age of only 25-30 years, this rate can be lower, say $7.5$% (optimistic approach). Following the same logic, the **ICU requriement rate** is taken as $2.5$% (balanced approach) which is global average, $1.25$% (optimistic approach) and $3.75$% (pessimistic approach). \n",
    "\n",
    "**time till hospitalization** is around 10 days (around 5 days after starting to show symptoms). \n",
    "\n",
    "**Case-fatality-rate** in Wuhan, China was found to be $4$% (optimistic approach). However, considering shortage of ICUs and hospital beds in the country, I am also considering $7.5$% (balanced approach, global average for closed detected cases is 15%, with half remaining asymptomatic and undetected, this rate comes down to $7.5$%), and $10$% (pessimistic approach, based on global average hospitalization rate). "
   ]
  },
  {
   "cell_type": "code",
   "execution_count": 126,
   "metadata": {},
   "outputs": [],
   "source": [
    "import datetime as dt\n",
    "from datetime import timedelta\n",
    "date = dt.date(2020, 3, 26)\n",
    "delta = timedelta(days=5)\n",
    "\n",
    "days2double = 5                                     # Days it takes for number of Covid-19 infected to double.\n",
    "\n",
    "hospitalization_rate = np.array([0.075, 0.1, 0.125])# % requiring hospitalization of true-infected, \n",
    "                                                    # half of the rate of % requiring hospitalization of detected, \n",
    "                                                    # assuming half of infected remains asymptomatic.\n",
    "\n",
    "icu_rate = [0.0125, 0.025, 0.0375]                  # % requiring icu of true-infected, \n",
    "                                                    # half of the rate of % requiring icu of detected,\n",
    "                                                    # assuming half of infected remains asymptomatic.\n",
    "        \n",
    "time2hospitalize = timedelta(days=10)               # Number of days for those who need hospitalization, from being infected to\n",
    "                                                    # requiring hospitalization.\n",
    "    \n",
    "time2death       = timedelta(days=20)               # Number of days for those who die, from being infected to dying.\n",
    "\n",
    "casefatality = np.array([0.04, 0.075, 0.1])               # % of true-infected (including those asymptomatic) who die.  \n",
    "\n",
    "pop = 168700000   #Population of Bangladesh."
   ]
  },
  {
   "cell_type": "code",
   "execution_count": 131,
   "metadata": {},
   "outputs": [
    {
     "name": "stdout",
     "output_type": "stream",
     "text": [
      "Optimistic Projection\n",
      "=====================\n",
      "Date: 2020-03-26\n",
      "=====================\n",
      "Total True-infected 4000.0\n",
      "Total Detectable-infected 2000.0\n",
      "Total Hospitalization Demand 75.0\n",
      "Total ICU Demand 12.0\n",
      "Total Death Count 10.0\n",
      "Optimistic Projection\n",
      "=====================\n",
      "Date: 2020-03-31\n",
      "=====================\n",
      "Total True-infected 8000.0\n",
      "Total Detectable-infected 4000.0\n",
      "Total Hospitalization Demand 150.0\n",
      "Total ICU Demand 25.0\n",
      "Total Death Count 20.0\n",
      "Optimistic Projection\n",
      "=====================\n",
      "Date: 2020-04-05\n",
      "=====================\n",
      "Total True-infected 16000.0\n",
      "Total Detectable-infected 8000.0\n",
      "Total Hospitalization Demand 300.0\n",
      "Total ICU Demand 50.0\n",
      "Total Death Count 40.0\n",
      "Optimistic Projection\n",
      "=====================\n",
      "Date: 2020-04-10\n",
      "=====================\n",
      "Total True-infected 32000.0\n",
      "Total Detectable-infected 16000.0\n",
      "Total Hospitalization Demand 600.0\n",
      "Total ICU Demand 100.0\n",
      "Total Death Count 80.0\n",
      "Optimistic Projection\n",
      "=====================\n",
      "Date: 2020-04-15\n",
      "=====================\n",
      "Total True-infected 64000.0\n",
      "Total Detectable-infected 32000.0\n",
      "Total Hospitalization Demand 1200.0\n",
      "Total ICU Demand 200.0\n",
      "Total Death Count 160.0\n",
      "Optimistic Projection\n",
      "=====================\n",
      "Date: 2020-04-20\n",
      "=====================\n",
      "Total True-infected 128000.0\n",
      "Total Detectable-infected 64000.0\n",
      "Total Hospitalization Demand 2400.0\n",
      "Total ICU Demand 400.0\n",
      "Total Death Count 320.0\n",
      "Optimistic Projection\n",
      "=====================\n",
      "Date: 2020-04-25\n",
      "=====================\n",
      "Total True-infected 256000.0\n",
      "Total Detectable-infected 128000.0\n",
      "Total Hospitalization Demand 4800.0\n",
      "Total ICU Demand 800.0\n",
      "Total Death Count 640.0\n",
      "Optimistic Projection\n",
      "=====================\n",
      "Date: 2020-04-30\n",
      "=====================\n",
      "Total True-infected 512000.0\n",
      "Total Detectable-infected 256000.0\n",
      "Total Hospitalization Demand 9600.0\n",
      "Total ICU Demand 1600.0\n",
      "Total Death Count 1280.0\n",
      "Optimistic Projection\n",
      "=====================\n",
      "Date: 2020-05-05\n",
      "=====================\n",
      "Total True-infected 1024000.0\n",
      "Total Detectable-infected 512000.0\n",
      "Total Hospitalization Demand 19200.0\n",
      "Total ICU Demand 3200.0\n",
      "Total Death Count 2560.0\n",
      "Optimistic Projection\n",
      "=====================\n",
      "Date: 2020-05-10\n",
      "=====================\n",
      "Total True-infected 2048000.0\n",
      "Total Detectable-infected 1024000.0\n",
      "Total Hospitalization Demand 38400.0\n",
      "Total ICU Demand 6400.0\n",
      "Total Death Count 5120.0\n"
     ]
    }
   ],
   "source": [
    "inew = 0\n",
    "i = inew\n",
    "true_infected = true_infected_0*2**i  \n",
    "while true_infected[0]*casefatality[0]/16 < 5001:\n",
    "    i = inew\n",
    "    true_infected[0] = true_infected_0[0]*2**i \n",
    "    print('Optimistic Projection')\n",
    "    print('=====================')\n",
    "    print('Date:',date+delta*i)\n",
    "    print('=====================')\n",
    "    print('Total True-infected',round(true_infected[0]))\n",
    "    print('Total Detectable-infected',round(true_infected[0]/2))\n",
    "    print('Total Hospitalization Demand', round(true_infected[0]*hospitalization_rate[0]/4))\n",
    "    print('Total ICU Demand', round(true_infected[0]*icu_rate[0]/4))\n",
    "    print('Total Death Count', round(true_infected[0]*casefatality[0]/16))\n",
    "    inew = i+1"
   ]
  },
  {
   "cell_type": "code",
   "execution_count": 132,
   "metadata": {},
   "outputs": [
    {
     "name": "stdout",
     "output_type": "stream",
     "text": [
      "Balanced Projection\n",
      "=====================\n",
      "Date: 2020-03-26\n",
      "=====================\n",
      "Total True-infected 16000.0\n",
      "Total Detectable-infected 8000.0\n",
      "Total Hospitalization Demand 400.0\n",
      "Total ICU Demand 100.0\n",
      "Total Death Count 75.0\n",
      "Balanced Projection\n",
      "=====================\n",
      "Date: 2020-03-31\n",
      "=====================\n",
      "Total True-infected 32000.0\n",
      "Total Detectable-infected 16000.0\n",
      "Total Hospitalization Demand 800.0\n",
      "Total ICU Demand 200.0\n",
      "Total Death Count 150.0\n",
      "Balanced Projection\n",
      "=====================\n",
      "Date: 2020-04-05\n",
      "=====================\n",
      "Total True-infected 64000.0\n",
      "Total Detectable-infected 32000.0\n",
      "Total Hospitalization Demand 1600.0\n",
      "Total ICU Demand 400.0\n",
      "Total Death Count 300.0\n",
      "Balanced Projection\n",
      "=====================\n",
      "Date: 2020-04-10\n",
      "=====================\n",
      "Total True-infected 128000.0\n",
      "Total Detectable-infected 64000.0\n",
      "Total Hospitalization Demand 3200.0\n",
      "Total ICU Demand 800.0\n",
      "Total Death Count 600.0\n",
      "Balanced Projection\n",
      "=====================\n",
      "Date: 2020-04-15\n",
      "=====================\n",
      "Total True-infected 256000.0\n",
      "Total Detectable-infected 128000.0\n",
      "Total Hospitalization Demand 6400.0\n",
      "Total ICU Demand 1600.0\n",
      "Total Death Count 1200.0\n",
      "Balanced Projection\n",
      "=====================\n",
      "Date: 2020-04-20\n",
      "=====================\n",
      "Total True-infected 512000.0\n",
      "Total Detectable-infected 256000.0\n",
      "Total Hospitalization Demand 12800.0\n",
      "Total ICU Demand 3200.0\n",
      "Total Death Count 2400.0\n",
      "Balanced Projection\n",
      "=====================\n",
      "Date: 2020-04-25\n",
      "=====================\n",
      "Total True-infected 1024000.0\n",
      "Total Detectable-infected 512000.0\n",
      "Total Hospitalization Demand 25600.0\n",
      "Total ICU Demand 6400.0\n",
      "Total Death Count 4800.0\n",
      "Balanced Projection\n",
      "=====================\n",
      "Date: 2020-04-30\n",
      "=====================\n",
      "Total True-infected 2048000.0\n",
      "Total Detectable-infected 1024000.0\n",
      "Total Hospitalization Demand 51200.0\n",
      "Total ICU Demand 12800.0\n",
      "Total Death Count 9600.0\n"
     ]
    }
   ],
   "source": [
    "inew = 0\n",
    "i = inew\n",
    "true_infected = true_infected_0*2**i  \n",
    "while true_infected[1]*casefatality[1]/16 < 5001:\n",
    "    i = inew\n",
    "    true_infected[1] = true_infected_0[1]*2**i \n",
    "    print('Balanced Projection')\n",
    "    print('=====================')\n",
    "    print('Date:',date+delta*i)\n",
    "    print('=====================')\n",
    "    print('Total True-infected',round(true_infected[1]))\n",
    "    print('Total Detectable-infected',round(true_infected[1]/2))\n",
    "    print('Total Hospitalization Demand', round(true_infected[1]*hospitalization_rate[1]/4))\n",
    "    print('Total ICU Demand', round(true_infected[1]*icu_rate[1]/4))\n",
    "    print('Total Death Count', round(true_infected[1]*casefatality[1]/16))\n",
    "    inew = i+1"
   ]
  },
  {
   "cell_type": "code",
   "execution_count": 130,
   "metadata": {},
   "outputs": [
    {
     "name": "stdout",
     "output_type": "stream",
     "text": [
      "Pessimistic Projection\n",
      "=====================\n",
      "Date: 2020-03-26\n",
      "=====================\n",
      "Total True-infected 48000.0\n",
      "Total Detectable-infected 24000.0\n",
      "Total Hospitalization Demand 1500.0\n",
      "Total ICU Demand 450.0\n",
      "Total Death Count 300.0\n",
      "Pessimistic Projection\n",
      "=====================\n",
      "Date: 2020-03-31\n",
      "=====================\n",
      "Total True-infected 96000.0\n",
      "Total Detectable-infected 48000.0\n",
      "Total Hospitalization Demand 3000.0\n",
      "Total ICU Demand 900.0\n",
      "Total Death Count 600.0\n",
      "Pessimistic Projection\n",
      "=====================\n",
      "Date: 2020-04-05\n",
      "=====================\n",
      "Total True-infected 192000.0\n",
      "Total Detectable-infected 96000.0\n",
      "Total Hospitalization Demand 6000.0\n",
      "Total ICU Demand 1800.0\n",
      "Total Death Count 1200.0\n",
      "Pessimistic Projection\n",
      "=====================\n",
      "Date: 2020-04-10\n",
      "=====================\n",
      "Total True-infected 384000.0\n",
      "Total Detectable-infected 192000.0\n",
      "Total Hospitalization Demand 12000.0\n",
      "Total ICU Demand 3600.0\n",
      "Total Death Count 2400.0\n",
      "Pessimistic Projection\n",
      "=====================\n",
      "Date: 2020-04-15\n",
      "=====================\n",
      "Total True-infected 768000.0\n",
      "Total Detectable-infected 384000.0\n",
      "Total Hospitalization Demand 24000.0\n",
      "Total ICU Demand 7200.0\n",
      "Total Death Count 4800.0\n",
      "Pessimistic Projection\n",
      "=====================\n",
      "Date: 2020-04-20\n",
      "=====================\n",
      "Total True-infected 1536000.0\n",
      "Total Detectable-infected 768000.0\n",
      "Total Hospitalization Demand 48000.0\n",
      "Total ICU Demand 14400.0\n",
      "Total Death Count 9600.0\n",
      "Pessimistic Projection\n",
      "=====================\n",
      "Date: 2020-04-25\n",
      "=====================\n",
      "Total True-infected 3072000.0\n",
      "Total Detectable-infected 1536000.0\n",
      "Total Hospitalization Demand 96000.0\n",
      "Total ICU Demand 28800.0\n",
      "Total Death Count 19200.0\n"
     ]
    }
   ],
   "source": [
    "inew = 0\n",
    "i = inew\n",
    "true_infected = true_infected_0*2**i  \n",
    "while true_infected[2]*casefatality[2]/16 < 10001:\n",
    "    i = inew\n",
    "    true_infected[2] = true_infected_0[2]*2**i \n",
    "    print('Pessimistic Projection')\n",
    "    print('=====================')\n",
    "    print('Date:',date+delta*i)\n",
    "    print('=====================')\n",
    "    print('Total True-infected',round(true_infected[2]))\n",
    "    print('Total Detectable-infected',round(true_infected[2]/2))\n",
    "    print('Total Hospitalization Demand', round(true_infected[2]*hospitalization_rate[2]/4))\n",
    "    print('Total ICU Demand', round(true_infected[2]*icu_rate[2]/4))\n",
    "    print('Total Death Count', round(true_infected[2]*casefatality[2]/16))\n",
    "    inew = i+1"
   ]
  },
  {
   "cell_type": "markdown",
   "metadata": {},
   "source": [
    "### 4. Scenario Summary"
   ]
  },
  {
   "cell_type": "markdown",
   "metadata": {},
   "source": [
    "Here I have simulated $3$ scenarios based on $3$ sets of assumptions (optimistic, balanced, pessimistic). Tweak the assumption parameters in my code as you deem fit to create your own projections.\n",
    "\n",
    "As mentioned earlier, I terminate the simulation (number of new infection comes to a halt) on the day death-count reaches 5,000. This is because I believe if and when that level is reached, drastic measures are likely to be taken by the government (stricter lockdown), the private sector (all businesses close) and people (self-imposed quarantine); resulting in number of new infections falling. However, since hospitalization demand materializes after about 10 days from infection, and death materializes after about 20 days from infection, the results will only be noticed with a 10-day and a 20-day lag respectively  \n",
    "\n",
    "The optimistic projection offers the flattest curve to reach that termination point (ending on May 10, 2020), followed by the balanced projection (ending on April 30, 2020), and the pessimistic projection (ending on April 25, 2020).  \n",
    "\n",
    "However, the final death-count in the $3$ scenario varies based on number of true-infected on the day of termination, as that number, combined with case fatality rate, determines 20-day forward death count. (Same applies for hospitalization demand, ICU demand etc.)\n",
    "\n",
    "**In the $3$ scenarios, going from optimistic to pessimistic**, <u><b>based on projecting up to the point when death-rate reaches 5,000,</b></u>\n",
    "<ul>\n",
    "    <li> Total hospitalizatoin demand are $38,400$, $51,200$, and $96,000$. </li>\n",
    "    <li> Total ICU demand are $6,400$, $12,800$, and $28,800$. </li>\n",
    "    <li> Total Death count are $5,120$, $9,600$, and $19200$ </li>\n",
    "</ul>\n",
    "\n",
    "Also, while it is erroneous to assume total hospitalization/ICU demand will be the total demand placed on the system on the date of termination, as people who occupy hospital beds or ICUs either heal or die after a certain period, freeing up capacity for new patients, considering the short time horizon, I have refrained from modeling that in into the projections.\n",
    "\n",
    "**As for an immediate peak in testing and hospitalization demand**, Wuhan, China experinced a spike in these demand exactly 12-days after lockdown was enforced. This is because in Wuhan, as in Italy and Bangladesh, right before lockdown came into effect, people relocated themselves from where they work to where their families live in large numbers, resulting in congestion which caused many new infections to happen just before lockdown. However, symptoms will start to appear and get severe after several days resulting in hospitalization and testing demand gradually rising to reach it's peak after 12 days. **This brings us to a date of around April 4 - April 7 when testing and hospitalization demand is likely to reach it's peak.**  \n"
   ]
  },
  {
   "cell_type": "markdown",
   "metadata": {},
   "source": [
    "### 5. Useful Resources"
   ]
  },
  {
   "cell_type": "markdown",
   "metadata": {},
   "source": [
    "[A real-time epidemiological simulator by Gabriel Goh](https://gabgoh.github.io/COVID/index.html)\n",
    "\n",
    "[Coronavirus: Why You Must Act Now by TOmas Pueyo](https://medium.com/@tomaspueyo/coronavirus-act-today-or-people-will-die-f4d3d9cd99ca)\n",
    "\n",
    "[Coronavirus: The Hammer and the Dance by Tomas Pueyo](https://medium.com/@tomaspueyo/coronavirus-the-hammer-and-the-dance-be9337092b56)\n",
    "\n",
    "[Sal Khan's explanation of Tomas Pueyo's approach to estimating actual Covid-19 cases from death count](https://www.youtube.com/watch?v=mCa0JXEwDEk)"
   ]
  }
 ],
 "metadata": {
  "kernelspec": {
   "display_name": "Python 3",
   "language": "python",
   "name": "python3"
  },
  "language_info": {
   "codemirror_mode": {
    "name": "ipython",
    "version": 3
   },
   "file_extension": ".py",
   "mimetype": "text/x-python",
   "name": "python",
   "nbconvert_exporter": "python",
   "pygments_lexer": "ipython3",
   "version": "3.6.8"
  }
 },
 "nbformat": 4,
 "nbformat_minor": 2
}
